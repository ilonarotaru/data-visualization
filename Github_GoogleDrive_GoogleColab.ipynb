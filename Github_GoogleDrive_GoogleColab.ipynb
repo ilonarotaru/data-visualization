{
  "nbformat": 4,
  "nbformat_minor": 0,
  "metadata": {
    "colab": {
      "name": "Github-GoogleDrive-GoogleColab.ipynb",
      "provenance": [],
      "collapsed_sections": [],
      "include_colab_link": true
    },
    "kernelspec": {
      "name": "python3",
      "display_name": "Python 3"
    }
  },
  "cells": [
    {
      "cell_type": "markdown",
      "metadata": {
        "id": "view-in-github",
        "colab_type": "text"
      },
      "source": [
        "<a href=\"https://colab.research.google.com/github/ilonarotaru/data-visualization/blob/master/Github_GoogleDrive_GoogleColab.ipynb\" target=\"_parent\"><img src=\"https://colab.research.google.com/assets/colab-badge.svg\" alt=\"Open In Colab\"/></a>"
      ]
    },
    {
      "cell_type": "markdown",
      "metadata": {
        "id": "0b68U9SEpVnO",
        "colab_type": "text"
      },
      "source": [
        "## Github-GoogleDrive-GoogleColab Setup\n",
        "\n",
        "0. GoogleDrive: Andare su Google Drive creasi una cartella chiamata \"data_visualization\". Create un nuovo google colab file oppure aprite un Google-Colab del corso [data-visualization](https://github.com/visiont3lab/data-visualization), salvatelo e spostatelo in questa cartella.\n",
        "1. Github: Andare su [Github](https://github.com/) e creare un account \n",
        "2. Github: Creare un repository chiamato \"seaborn-data-visualization\" e creare un README.md di default.\n",
        "3. GoogleColab: Editare il seguent notebook aggiugendo codice o commenti.\n",
        "4. GoogleColab: Salvare il contenuto su Git (Save a Copy in Github)\n",
        "5. Github: Creare un file index.html con scritto dentro \"Test\" . Questa sarà la nostra pagine web di partenza. Più informazioni a  [Github Web Pages](https://pages.github.com/).\n",
        "6. Github: Vai su settings e cerchimao \"Github Pages\". Lo abilitiamo scegliendo \"master-branch. Possiamo anche scegliere un tema nella sezione \"Theme Choser\".\n",
        "Dovrebbe essere comparso sotto \"Github Pages\"\n",
        "> Your site is ready to be published at https://visiont3lab.github.io/seaborn-data-visualization/.\n",
        "7. GoogleColab: Convertire notebook (ipynb) in html e scaricalo localmente\n",
        "8. Github: Caricare il file html scaricato su Github. Importare è che il nome del file sia \"index.html\" "
      ]
    },
    {
      "cell_type": "markdown",
      "metadata": {
        "id": "GO3mNLjE5UwK",
        "colab_type": "text"
      },
      "source": [
        "## Convertire un notebook (ipynb) contenuto in un repository GIT (Github) in html"
      ]
    },
    {
      "cell_type": "code",
      "metadata": {
        "id": "T4i4vq2x4Bj-",
        "colab_type": "code",
        "outputId": "8b62c7c3-0b46-48b8-8c24-761b7e34b1ca",
        "colab": {
          "base_uri": "https://localhost:8080/",
          "height": 122
        }
      },
      "source": [
        "!git clone https://github.com/visiont3lab/seaborn-data-visualization.git"
      ],
      "execution_count": 0,
      "outputs": [
        {
          "output_type": "stream",
          "text": [
            "Cloning into 'seaborn-data-visualization'...\n",
            "remote: Enumerating objects: 9, done.\u001b[K\n",
            "remote: Counting objects: 100% (9/9), done.\u001b[K\n",
            "remote: Compressing objects: 100% (7/7), done.\u001b[K\n",
            "remote: Total 9 (delta 1), reused 0 (delta 0), pack-reused 0\u001b[K\n",
            "Unpacking objects: 100% (9/9), done.\n"
          ],
          "name": "stdout"
        }
      ]
    },
    {
      "cell_type": "code",
      "metadata": {
        "id": "hilAtz6W4N9u",
        "colab_type": "code",
        "outputId": "661033ab-f884-4e27-f828-0dcc32729d17",
        "colab": {
          "base_uri": "https://localhost:8080/",
          "height": 52
        }
      },
      "source": [
        "%cd seaborn-data-visualization/\n",
        "!ls"
      ],
      "execution_count": 0,
      "outputs": [
        {
          "output_type": "stream",
          "text": [
            "/content/seaborn-data-visualization\n",
            "Github_GOOGLEColab.ipynb  index.html  README.md\n"
          ],
          "name": "stdout"
        }
      ]
    },
    {
      "cell_type": "code",
      "metadata": {
        "id": "y4FcX8Do4Sn4",
        "colab_type": "code",
        "outputId": "7af8c3c7-4ee2-44a6-df92-4ac99d266011",
        "colab": {
          "base_uri": "https://localhost:8080/",
          "height": 70
        }
      },
      "source": [
        "#jupyter nbconvert --to <output format> <filename.ipynb>\n",
        "!jupyter nbconvert --to html Github_GOOGLEColab.ipynb\n",
        "!ls"
      ],
      "execution_count": 0,
      "outputs": [
        {
          "output_type": "stream",
          "text": [
            "[NbConvertApp] Converting notebook Github_GOOGLEColab.ipynb to html\n",
            "[NbConvertApp] Writing 274084 bytes to Github_GOOGLEColab.html\n",
            "Github_GOOGLEColab.html  Github_GOOGLEColab.ipynb  index.html  README.md\n"
          ],
          "name": "stdout"
        }
      ]
    },
    {
      "cell_type": "markdown",
      "metadata": {
        "id": "efodPTLPjyqv",
        "colab_type": "text"
      },
      "source": [
        "## Convertire un notebook (ipynb) contenuto in un repository GOOGLE DRIVE in html"
      ]
    },
    {
      "cell_type": "code",
      "metadata": {
        "id": "-u2gM9i2kEue",
        "colab_type": "code",
        "outputId": "3a3769ae-ffd5-415e-8042-7b4319ff86b7",
        "colab": {
          "base_uri": "https://localhost:8080/",
          "height": 54
        }
      },
      "source": [
        "from google.colab import drive\n",
        "drive.mount('/content/drive')"
      ],
      "execution_count": 5,
      "outputs": [
        {
          "output_type": "stream",
          "text": [
            "Drive already mounted at /content/drive; to attempt to forcibly remount, call drive.mount(\"/content/drive\", force_remount=True).\n"
          ],
          "name": "stdout"
        }
      ]
    },
    {
      "cell_type": "code",
      "metadata": {
        "id": "9P5l2tgEkEtq",
        "colab_type": "code",
        "outputId": "0078c3ae-ba89-4732-8937-929d6137bfcc",
        "colab": {
          "base_uri": "https://localhost:8080/",
          "height": 52
        }
      },
      "source": [
        "%cd /content/drive/My Drive/DATA visualization\n",
        "!ls"
      ],
      "execution_count": 4,
      "outputs": [
        {
          "output_type": "stream",
          "text": [
            "/content/drive/My Drive/DATA visualization\n",
            "Github-GoogleDrive-GoogleColab.ipynb  prova.ipynb  Seaborn.ipynb\n"
          ],
          "name": "stdout"
        }
      ]
    },
    {
      "cell_type": "code",
      "metadata": {
        "id": "SExz6-2bkzab",
        "colab_type": "code",
        "outputId": "b6bb0ee8-59fe-47ae-c0c9-a604e488a3e8",
        "colab": {
          "base_uri": "https://localhost:8080/",
          "height": 87
        }
      },
      "source": [
        "#jupyter nbconvert --to <output format> <filename.ipynb>\n",
        "!jupyter nbconvert --to html Seaborn.ipynb --output index.html\n",
        "!ls"
      ],
      "execution_count": 10,
      "outputs": [
        {
          "output_type": "stream",
          "text": [
            "[NbConvertApp] Converting notebook Seaborn.ipynb to html\n",
            "[NbConvertApp] Writing 1324385 bytes to index.html\n",
            "Github-GoogleDrive-GoogleColab.ipynb  my.html\t   Seaborn.ipynb\n",
            "index.html\t\t\t      prova.ipynb\n"
          ],
          "name": "stdout"
        }
      ]
    },
    {
      "cell_type": "code",
      "metadata": {
        "id": "6E20AyFJordk",
        "colab_type": "code",
        "colab": {}
      },
      "source": [
        ""
      ],
      "execution_count": 0,
      "outputs": []
    }
  ]
}